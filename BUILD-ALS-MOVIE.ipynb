{
 "cells": [
  {
   "cell_type": "code",
   "execution_count": 4,
   "id": "3383e0f4-fe6d-44d7-b0df-a0f0e9dca071",
   "metadata": {},
   "outputs": [],
   "source": [
    "import numpy as np\n",
    "import pandas as pb\n",
    "from pyspark.sql import SparkSession\n",
    "from pyspark.sql import SQLContext\n",
    "from pyspark.ml.recommendation import ALS\n",
    "from pyspark.ml.evaluation import RegressionEvaluator\n",
    "from pyspark.sql.functions import udf, col, when\n",
    "from IPython.display import Image\n",
    "from IPython.display import display"
   ]
  },
  {
   "cell_type": "code",
   "execution_count": 5,
   "id": "7e9496b2-2ac1-48a4-bd03-57fdbbbf457d",
   "metadata": {},
   "outputs": [
    {
     "name": "stderr",
     "output_type": "stream",
     "text": [
      "23/10/31 08:31:03 WARN Utils: Your hostname, mason-VirtualBox resolves to a loopback address: 127.0.1.1; using 10.0.2.15 instead (on interface enp0s3)\n",
      "23/10/31 08:31:03 WARN Utils: Set SPARK_LOCAL_IP if you need to bind to another address\n",
      "Setting default log level to \"WARN\".\n",
      "To adjust logging level use sc.setLogLevel(newLevel). For SparkR, use setLogLevel(newLevel).\n",
      "23/10/31 08:31:04 WARN NativeCodeLoader: Unable to load native-hadoop library for your platform... using builtin-java classes where applicable\n"
     ]
    }
   ],
   "source": [
    "spark = SparkSession.builder.appName(\"Recommendation Movie\").getOrCreate()"
   ]
  },
  {
   "cell_type": "code",
   "execution_count": 6,
   "id": "fba78ced-2cdb-4ca3-8cb1-3ecf471cb319",
   "metadata": {},
   "outputs": [
    {
     "name": "stderr",
     "output_type": "stream",
     "text": [
      "/usr/local/lib/python3.8/dist-packages/pyspark/sql/context.py:113: FutureWarning: Deprecated in 3.0.0. Use SparkSession.builder.getOrCreate() instead.\n",
      "  warnings.warn(\n"
     ]
    }
   ],
   "source": [
    "sc = spark.sparkContext\n",
    "sqlContext = SQLContext(sc)"
   ]
  },
  {
   "cell_type": "code",
   "execution_count": 7,
   "id": "b8e5d844-200a-4107-9711-1d08c75498b5",
   "metadata": {},
   "outputs": [
    {
     "name": "stderr",
     "output_type": "stream",
     "text": [
      "                                                                                \r"
     ]
    }
   ],
   "source": [
    "ratings_df = spark.read.csv(\"rating.csv\", inferSchema= True, header=True)"
   ]
  },
  {
   "cell_type": "code",
   "execution_count": 8,
   "id": "bf20caf6-035e-47e2-968e-59da31a8a803",
   "metadata": {},
   "outputs": [],
   "source": [
    "ratings_df = ratings_df.drop('timestamp')"
   ]
  },
  {
   "cell_type": "code",
   "execution_count": 9,
   "id": "1f03ec7f-2859-4aa8-9494-82fb5475f45a",
   "metadata": {},
   "outputs": [],
   "source": [
    "movies_df = spark.read.csv(\"movie.csv\", inferSchema= True, header=True)"
   ]
  },
  {
   "cell_type": "code",
   "execution_count": 10,
   "id": "9dc02dbd-7480-4284-a4b0-4ed357b39872",
   "metadata": {},
   "outputs": [],
   "source": [
    "links_df = spark.read.csv(\"link.csv\", inferSchema= True, header=True)"
   ]
  },
  {
   "cell_type": "code",
   "execution_count": 11,
   "id": "47b63521-329a-4ace-96fb-9dab86c9c0e8",
   "metadata": {},
   "outputs": [],
   "source": [
    "traning_df, validation_df = ratings_df.randomSplit([0.8,0.2])"
   ]
  },
  {
   "cell_type": "code",
   "execution_count": 12,
   "id": "ec35e25e-55be-4f55-91ed-35ade9b9eca5",
   "metadata": {},
   "outputs": [],
   "source": [
    "interations = 10\n",
    "regularization_parameter = 0.1\n",
    "rank = 4\n",
    "errors = []\n",
    "err = 0"
   ]
  },
  {
   "cell_type": "code",
   "execution_count": 13,
   "id": "23130fdd-ff55-418e-aa75-a8a8929bfb6d",
   "metadata": {},
   "outputs": [
    {
     "name": "stderr",
     "output_type": "stream",
     "text": [
      "23/10/31 08:33:38 WARN InstanceBuilder: Failed to load implementation from:dev.ludovic.netlib.blas.JNIBLAS\n",
      "23/10/31 08:33:42 WARN InstanceBuilder: Failed to load implementation from:dev.ludovic.netlib.lapack.JNILAPACK\n",
      "                                                                                \r"
     ]
    }
   ],
   "source": [
    "als = ALS(maxIter= interations, regParam=regularization_parameter, rank=4, userCol=\"userId\", itemCol=\"movieId\", ratingCol = \"rating\")\n",
    "model = als.fit(traning_df)"
   ]
  },
  {
   "cell_type": "code",
   "execution_count": 14,
   "id": "3d1bb0b9-78bc-4f76-af12-48ac09a60ef1",
   "metadata": {},
   "outputs": [
    {
     "name": "stderr",
     "output_type": "stream",
     "text": [
      "                                                                                \r"
     ]
    }
   ],
   "source": [
    "predictions = model.transform(validation_df)\n",
    "new_predictions = predictions.filter(col('prediction') != np.nan)\n",
    "evaluator = RegressionEvaluator(metricName='rmse', labelCol='rating', predictionCol='prediction')\n",
    "rmse = evaluator.evaluate(new_predictions)"
   ]
  },
  {
   "cell_type": "code",
   "execution_count": 15,
   "id": "6119cc90-3f7d-4a33-a460-c1608d532efd",
   "metadata": {},
   "outputs": [
    {
     "name": "stdout",
     "output_type": "stream",
     "text": [
      "Erorror: 0.8207114183544837\n"
     ]
    }
   ],
   "source": [
    "print('Erorror: '+str(rmse))"
   ]
  },
  {
   "cell_type": "code",
   "execution_count": 16,
   "id": "c51e5305-a448-4587-94f2-c12b51836c1b",
   "metadata": {},
   "outputs": [
    {
     "name": "stderr",
     "output_type": "stream",
     "text": [
      "[Stage 93:================================================>         (5 + 1) / 6]\r"
     ]
    },
    {
     "name": "stdout",
     "output_type": "stream",
     "text": [
      "+------+-------+------+----------+\n",
      "|userId|movieId|rating|prediction|\n",
      "+------+-------+------+----------+\n",
      "|     1|     29|   3.5|  3.610647|\n",
      "|     1|    293|   4.0| 3.9503818|\n",
      "|     1|    318|   4.0|  4.242936|\n",
      "|     1|    593|   3.5|  3.980338|\n",
      "|     1|   1217|   3.5| 3.6358538|\n",
      "|     1|   1266|   4.0| 3.7535038|\n",
      "|     1|   1333|   4.0|  3.540858|\n",
      "|     1|   1525|   3.0| 2.8079455|\n",
      "|     1|   1848|   3.5| 3.0699472|\n",
      "|     1|   2118|   4.0| 3.5903404|\n",
      "+------+-------+------+----------+\n",
      "only showing top 10 rows\n",
      "\n"
     ]
    },
    {
     "name": "stderr",
     "output_type": "stream",
     "text": [
      "                                                                                \r"
     ]
    }
   ],
   "source": [
    "predictions.show(n=10)"
   ]
  },
  {
   "cell_type": "code",
   "execution_count": 1,
   "id": "920fdba1-1f62-4277-a11d-c6bb145a809e",
   "metadata": {},
   "outputs": [
    {
     "ename": "NameError",
     "evalue": "name 'predictions' is not defined",
     "output_type": "error",
     "traceback": [
      "\u001b[0;31m---------------------------------------------------------------------------\u001b[0m",
      "\u001b[0;31mNameError\u001b[0m                                 Traceback (most recent call last)",
      "Cell \u001b[0;32mIn[1], line 1\u001b[0m\n\u001b[0;32m----> 1\u001b[0m \u001b[43mpredictions\u001b[49m\u001b[38;5;241m.\u001b[39mjoin(movies_df, \u001b[38;5;124m\"\u001b[39m\u001b[38;5;124mmovieId\u001b[39m\u001b[38;5;124m\"\u001b[39m)\u001b[38;5;241m.\u001b[39mselect(\u001b[38;5;124m\"\u001b[39m\u001b[38;5;124muserId\u001b[39m\u001b[38;5;124m\"\u001b[39m, \u001b[38;5;124m\"\u001b[39m\u001b[38;5;124mtitle\u001b[39m\u001b[38;5;124m\"\u001b[39m, \u001b[38;5;124m\"\u001b[39m\u001b[38;5;124mgenres\u001b[39m\u001b[38;5;124m\"\u001b[39m, \u001b[38;5;124m\"\u001b[39m\u001b[38;5;124mprediction\u001b[39m\u001b[38;5;124m\"\u001b[39m)\u001b[38;5;241m.\u001b[39mshow(\u001b[38;5;241m5\u001b[39m)\n",
      "\u001b[0;31mNameError\u001b[0m: name 'predictions' is not defined"
     ]
    }
   ],
   "source": [
    "predictions.join(movies_df, \"movieId\").select(\"userId\", \"title\", \"genres\", \"prediction\").show(5)"
   ]
  },
  {
   "cell_type": "markdown",
   "id": "42cb9681-ed58-4680-89f0-c9af2174712f",
   "metadata": {},
   "source": [
    "RECOMMEND FOR USER"
   ]
  },
  {
   "cell_type": "code",
   "execution_count": 23,
   "id": "8dbf40c0-7df7-4090-9147-634dff7b9573",
   "metadata": {},
   "outputs": [
    {
     "name": "stderr",
     "output_type": "stream",
     "text": [
      "[Stage 184:===============================================>         (5 + 1) / 6]\r"
     ]
    },
    {
     "name": "stdout",
     "output_type": "stream",
     "text": [
      "+------+--------------------+--------------------+------+----------+\n",
      "|userId|               title|              genres|tmdbId|prediction|\n",
      "+------+--------------------+--------------------+------+----------+\n",
      "|   599|Naked Gun 33 1/3:...|       Action|Comedy| 36593| 2.8472595|\n",
      "|   599|   Striptease (1996)|        Comedy|Crime|  9879| 2.3792806|\n",
      "|   599|Eyes Wide Shut (1...|Drama|Mystery|Thr...|   345| 2.6640959|\n",
      "|   599|Matchstick Men (2...|  Comedy|Crime|Drama|  7270|  3.145326|\n",
      "|   599|Secondhand Lions ...|Children|Comedy|D...| 13156|  3.105628|\n",
      "+------+--------------------+--------------------+------+----------+\n",
      "\n"
     ]
    },
    {
     "name": "stderr",
     "output_type": "stream",
     "text": [
      "                                                                                \r"
     ]
    }
   ],
   "source": [
    "for_one_user = predictions.filter(col(\"userId\")==599).join(movies_df, \"movieId\").join(links_df, \"movieId\").select(\"userId\", \"title\", \"genres\",\"tmdbId\" ,\"prediction\")\n",
    "for_one_user.show(5)"
   ]
  },
  {
   "cell_type": "code",
   "execution_count": 25,
   "id": "39282b64-97f0-4b1d-96bd-03f4f3c66a3f",
   "metadata": {},
   "outputs": [
    {
     "name": "stderr",
     "output_type": "stream",
     "text": [
      "                                                                                \r"
     ]
    },
    {
     "name": "stdout",
     "output_type": "stream",
     "text": [
      "Naked Gun 33 1/3: The Final Insult (1994)\n",
      "Striptease (1996)\n"
     ]
    }
   ],
   "source": [
    "import webbrowser\n",
    "link = \"https://www.themoviedb.org/movie/\"\n",
    "for movie in for_one_user.take(2):\n",
    "    movieURL = link+str(movie.tmdbId)\n",
    "    print(movie.title)\n",
    "    webbrowser.open(movieURL)"
   ]
  },
  {
   "cell_type": "code",
   "execution_count": null,
   "id": "3cdc43c0-5fb9-4aea-bf36-2a19d4cb1e3e",
   "metadata": {},
   "outputs": [],
   "source": [
    "for_one_user8 = predictions.filter(col(\"userId\")==9).join(movies_df, \"movieId\").join(links_df, \"movieId\").select(\"userId\", \"title\", \"genres\",\"tmdbId\" ,\"prediction\")\n",
    "for_one_user8.show(5)"
   ]
  },
  {
   "cell_type": "code",
   "execution_count": null,
   "id": "41de21a5-b536-46c2-a6bd-9d9ec936e620",
   "metadata": {},
   "outputs": [],
   "source": [
    "import webbrowser\n",
    "link = \"https://www.themoviedb.org/movie/\"\n",
    "for movie in for_one_user8.take(2):\n",
    "    movieURL = link+str(movie.tmdbId)\n",
    "    print(movie.title)\n",
    "    webbrowser.open(movieURL)"
   ]
  },
  {
   "cell_type": "code",
   "execution_count": 26,
   "id": "f29993c2-949e-474c-8e12-bd19484f1194",
   "metadata": {},
   "outputs": [],
   "source": [
    "userRecommends = model.recommendForAllUsers(5)\n",
    "movieRecommends = model.recommendForAllItems(5)"
   ]
  },
  {
   "cell_type": "code",
   "execution_count": 27,
   "id": "d2dfeefe-b778-4917-b889-4af303f2d46c",
   "metadata": {},
   "outputs": [
    {
     "name": "stderr",
     "output_type": "stream",
     "text": [
      "[Stage 300:>                                                        (0 + 1) / 1]\r"
     ]
    },
    {
     "name": "stdout",
     "output_type": "stream",
     "text": [
      "+------+----------------------------------------+\n",
      "|userId|movieId                                 |\n",
      "+------+----------------------------------------+\n",
      "|1     |[121029, 95776, 128981, 120821, 77736]  |\n",
      "|3     |[121029, 95776, 120821, 128981, 120134] |\n",
      "|5     |[121029, 120821, 77736, 95776, 126219]  |\n",
      "|6     |[121029, 126219, 107434, 107252, 107559]|\n",
      "|9     |[121029, 107306, 107434, 107252, 107559]|\n",
      "|12    |[121029, 120821, 95776, 73529, 120134]  |\n",
      "|13    |[121029, 112577, 128981, 95595, 107306] |\n",
      "|15    |[126219, 121029, 107559, 120821, 95776] |\n",
      "|16    |[121029, 120821, 95776, 104780, 128981] |\n",
      "|17    |[121029, 128981, 107306, 77736, 107434] |\n",
      "+------+----------------------------------------+\n",
      "only showing top 10 rows\n",
      "\n"
     ]
    },
    {
     "name": "stderr",
     "output_type": "stream",
     "text": [
      "                                                                                \r"
     ]
    }
   ],
   "source": [
    "userRecommends.select(\"userId\", \"recommendations.movieId\").show(10, False)"
   ]
  },
  {
   "cell_type": "code",
   "execution_count": null,
   "id": "86424655-f259-4d9a-a1c5-d4b6cbf3a56a",
   "metadata": {},
   "outputs": [],
   "source": [
    "movieRecommends.select(\"movieId\", \"recommendations.userId\").show(10, False)"
   ]
  },
  {
   "cell_type": "code",
   "execution_count": null,
   "id": "4ccd3dc5-8937-47a0-9485-389f126ac05a",
   "metadata": {},
   "outputs": [],
   "source": [
    "user = ratings_df.select(\"userId\").distinct().limit(3)\n",
    "user.show()"
   ]
  },
  {
   "cell_type": "code",
   "execution_count": null,
   "id": "d32fdbef-a1fc-45ca-a407-eef37713a8ef",
   "metadata": {},
   "outputs": [],
   "source": [
    "userSubsetRecs = model.recommendForUserSubset(users,10)\n",
    "userSubsetRecs.show()"
   ]
  },
  {
   "cell_type": "code",
   "execution_count": null,
   "id": "61e32ac4-a9ef-4b4a-997b-5b1e631557b9",
   "metadata": {},
   "outputs": [],
   "source": [
    "userSubsetRecs.select(\"userId\", \"recommendations.movieId\").show(10, False)"
   ]
  },
  {
   "cell_type": "code",
   "execution_count": null,
   "id": "59625c5a-80d5-4f60-902b-e94de04b50c0",
   "metadata": {},
   "outputs": [],
   "source": [
    "user = ratings_df.select(\"movieId\").distinct().limit(3)\n",
    "user.show()"
   ]
  },
  {
   "cell_type": "code",
   "execution_count": null,
   "id": "2f7668a1-63f7-41d5-a493-e760fe17dd04",
   "metadata": {},
   "outputs": [],
   "source": [
    "movieSubsetRecs = model.recommendForUserSubset(movies,10)\n",
    "movieSubsetRecs.select(\"movieId\", \"recommendations.userId\").show(10, False)"
   ]
  },
  {
   "cell_type": "code",
   "execution_count": null,
   "id": "6e3ecf70-0a13-4954-9e94-44cec5f3b7bb",
   "metadata": {},
   "outputs": [],
   "source": [
    "movie_ids = [1580,3175,2366,1590]\n",
    "user_ids = [543,543,543,543]\n",
    "new_users_pred = sqlCOntext.createDataFrame(zip(movie_ids, user_ids), schema=['movieId', 'userId'])"
   ]
  },
  {
   "cell_type": "code",
   "execution_count": null,
   "id": "02d3da89-3a4a-42e6-8bb8-91fde22601a7",
   "metadata": {},
   "outputs": [],
   "source": [
    "new_predictions = model.transform(new_users_pred)\n",
    "new_predictions.show()"
   ]
  }
 ],
 "metadata": {
  "kernelspec": {
   "display_name": "Python 3 (ipykernel)",
   "language": "python",
   "name": "python3"
  },
  "language_info": {
   "codemirror_mode": {
    "name": "ipython",
    "version": 3
   },
   "file_extension": ".py",
   "mimetype": "text/x-python",
   "name": "python",
   "nbconvert_exporter": "python",
   "pygments_lexer": "ipython3",
   "version": "3.8.10"
  }
 },
 "nbformat": 4,
 "nbformat_minor": 5
}
